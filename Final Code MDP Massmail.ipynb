{
 "cells": [
  {
   "cell_type": "code",
   "execution_count": 1,
   "id": "f1b81b48",
   "metadata": {},
   "outputs": [],
   "source": [
    "# import the required libraries\n",
    "import pandas as pd\n",
    "import os\n",
    "import xlrd\n",
    "import smtplib\n",
    "from email.mime.multipart import MIMEMultipart\n",
    "from email.mime.text import MIMEText\n",
    "from email.mime.base import MIMEBase\n",
    "from email.mime.image import MIMEImage\n",
    "from email import encoders\n",
    "import getpass"
   ]
  },
  {
   "cell_type": "code",
   "execution_count": 2,
   "id": "30c14eb5",
   "metadata": {},
   "outputs": [
    {
     "name": "stdout",
     "output_type": "stream",
     "text": [
      "enter your email-id prayog.ctara@iitb.ac.in\n",
      "enter your password: \n",
      "········\n"
     ]
    }
   ],
   "source": [
    " # change these as per use\n",
    "your_email = input(\"enter your email-id \")\n",
    "your_password = getpass.getpass(\"enter your password: \\n\")"
   ]
  },
  {
   "cell_type": "code",
   "execution_count": 3,
   "id": "1eee900d",
   "metadata": {},
   "outputs": [
    {
     "data": {
      "text/plain": [
       "(235, b'2.7.0 Authentication successful')"
      ]
     },
     "execution_count": 3,
     "metadata": {},
     "output_type": "execute_result"
    }
   ],
   "source": [
    "# establishing connection with IIT-B mail\n",
    "server = smtplib.SMTP('smtp-auth.iitb.ac.in',587)\n",
    "server.ehlo()\n",
    "server.starttls()\n",
    "server.login(your_email, your_password)"
   ]
  },
  {
   "cell_type": "code",
   "execution_count": 4,
   "id": "9f339719",
   "metadata": {},
   "outputs": [
    {
     "name": "stdout",
     "output_type": "stream",
     "text": [
      "C:\\Users\\Bakulrao\\Desktop\\MDP_MassMail\n"
     ]
    }
   ],
   "source": [
    "# Define directory\n",
    "# os.chdir = input(\"Input directory address \")\n",
    "current_directory=os.getcwd()\n",
    "print(current_directory)"
   ]
  },
  {
   "cell_type": "code",
   "execution_count": 5,
   "id": "4ed608ab",
   "metadata": {},
   "outputs": [
    {
     "name": "stdout",
     "output_type": "stream",
     "text": [
      "                           name        designation  \\\n",
      "0          Gopalsamy Thirupathi          Secretary   \n",
      "1            MARYAM ABDUL QADIR          Secretary   \n",
      "2      G RAAJASRI SUNDHARASIVAM  Chief Functionary   \n",
      "3                         SELVI          Secretary   \n",
      "4                      AKILAN S            Founder   \n",
      "...                         ...                ...   \n",
      "1227                INAYATHULLA          Treasurer   \n",
      "1228         Sankaranarayanan M           Director   \n",
      "1229  NALLIAH SERVAI SETHURAMAN          President   \n",
      "1230               MAHALINGAM S          President   \n",
      "1231                JANAKIRAMAN           Chairman   \n",
      "\n",
      "                                        address  \\\n",
      "0          (PAZHANI) KIRANUR SANMARGA GURUKULAM   \n",
      "1                                     4 M TRUST   \n",
      "2                  63 NAYANARS CHARITABLE TRUST   \n",
      "3                         A K EDUCATIONAL TRUST   \n",
      "4                      A K SOCIAL WELFARE TRUST   \n",
      "...                                         ...   \n",
      "1227           Mahadi Islamic Educational Trust   \n",
      "1228  Maharaja Educational and Charitable Trust   \n",
      "1229                            MAHASEMAM TRUST   \n",
      "1230    MAHATHMA GANDHI HUMAN DEVELOPMENT TRUST   \n",
      "1231    MAHATHMA GANDHI MAKKAL POTHUPANI SANGAM   \n",
      "\n",
      "                                 emails                     attachment  \n",
      "0           keeranurgurukulam@gmail.com       Gopalsamy Thirupathi.pdf  \n",
      "1            4mshelter.zone12@gmail.com         MARYAM ABDUL QADIR.pdf  \n",
      "2                 63nayanarss@gmail.com   G RAAJASRI SUNDHARASIVAM.pdf  \n",
      "3     akeducationaltrustindia@gmail.com                      SELVI.pdf  \n",
      "4        aksocialwelfaretrust@gmail.com                   AKILAN S.pdf  \n",
      "...                                 ...                            ...  \n",
      "1227               miet102008@gmail.com                INAYATHULLA.pdf  \n",
      "1228          support@maharajatrust.org         Sankaranarayanan M.pdf  \n",
      "1229           nellaiaccounts@yahoo.com  NALLIAH SERVAI SETHURAMAN.pdf  \n",
      "1230      mahathmagandhitrust@gmail.com               MAHALINGAM S.pdf  \n",
      "1231              mgmppsangam@gmail.com                JANAKIRAMAN.pdf  \n",
      "\n",
      "[1232 rows x 5 columns]\n"
     ]
    },
    {
     "data": {
      "text/plain": [
       "<bound method NDFrame.head of                            name        designation  \\\n",
       "0          Gopalsamy Thirupathi          Secretary   \n",
       "1            MARYAM ABDUL QADIR          Secretary   \n",
       "2      G RAAJASRI SUNDHARASIVAM  Chief Functionary   \n",
       "3                         SELVI          Secretary   \n",
       "4                      AKILAN S            Founder   \n",
       "...                         ...                ...   \n",
       "1227                INAYATHULLA          Treasurer   \n",
       "1228         Sankaranarayanan M           Director   \n",
       "1229  NALLIAH SERVAI SETHURAMAN          President   \n",
       "1230               MAHALINGAM S          President   \n",
       "1231                JANAKIRAMAN           Chairman   \n",
       "\n",
       "                                        address  \\\n",
       "0          (PAZHANI) KIRANUR SANMARGA GURUKULAM   \n",
       "1                                     4 M TRUST   \n",
       "2                  63 NAYANARS CHARITABLE TRUST   \n",
       "3                         A K EDUCATIONAL TRUST   \n",
       "4                      A K SOCIAL WELFARE TRUST   \n",
       "...                                         ...   \n",
       "1227           Mahadi Islamic Educational Trust   \n",
       "1228  Maharaja Educational and Charitable Trust   \n",
       "1229                            MAHASEMAM TRUST   \n",
       "1230    MAHATHMA GANDHI HUMAN DEVELOPMENT TRUST   \n",
       "1231    MAHATHMA GANDHI MAKKAL POTHUPANI SANGAM   \n",
       "\n",
       "                                 emails                     attachment  \n",
       "0           keeranurgurukulam@gmail.com       Gopalsamy Thirupathi.pdf  \n",
       "1            4mshelter.zone12@gmail.com         MARYAM ABDUL QADIR.pdf  \n",
       "2                 63nayanarss@gmail.com   G RAAJASRI SUNDHARASIVAM.pdf  \n",
       "3     akeducationaltrustindia@gmail.com                      SELVI.pdf  \n",
       "4        aksocialwelfaretrust@gmail.com                   AKILAN S.pdf  \n",
       "...                                 ...                            ...  \n",
       "1227               miet102008@gmail.com                INAYATHULLA.pdf  \n",
       "1228          support@maharajatrust.org         Sankaranarayanan M.pdf  \n",
       "1229           nellaiaccounts@yahoo.com  NALLIAH SERVAI SETHURAMAN.pdf  \n",
       "1230      mahathmagandhitrust@gmail.com               MAHALINGAM S.pdf  \n",
       "1231              mgmppsangam@gmail.com                JANAKIRAMAN.pdf  \n",
       "\n",
       "[1232 rows x 5 columns]>"
      ]
     },
     "execution_count": 5,
     "metadata": {},
     "output_type": "execute_result"
    }
   ],
   "source": [
    "# reading the spreadsheet\n",
    "#address = input(\"provide name of address file along with extension \\n\")\n",
    "#file_address = os.chdir + \"/\" + address\n",
    "#print(file_address)\n",
    "email_list = pd.read_excel(\"list for python.xlsx\")\n",
    "                           \n",
    "print(email_list)\n",
    "\n",
    "email_list.head"
   ]
  },
  {
   "cell_type": "code",
   "execution_count": 6,
   "id": "9dd99d6d",
   "metadata": {},
   "outputs": [
    {
     "name": "stdout",
     "output_type": "stream",
     "text": [
      "Enter subject: Launch of 1-year online program - 'Master in Development Practice' by IIT-Bombay\n",
      "Launch of 1-year online program - 'Master in Development Practice' by IIT-Bombay\n",
      "C:\\Users\\Bakulrao\\Desktop\\MDP_MassMail\n"
     ]
    }
   ],
   "source": [
    "# getting the names and the emails\n",
    "names = email_list['name']\n",
    "emails = email_list['emails']\n",
    "# files = email_list['attachment']\n",
    "message_subject = input(\"Enter subject: Launch of 1-year online program - 'Master in Development Practice' by IIT-Bombay\\n\")\n",
    "print(os.getcwd())"
   ]
  },
  {
   "cell_type": "code",
   "execution_count": null,
   "id": "26571a68",
   "metadata": {},
   "outputs": [],
   "source": []
  },
  {
   "cell_type": "code",
   "execution_count": 7,
   "id": "cd237c0b",
   "metadata": {},
   "outputs": [],
   "source": [
    "for i in range(len(emails)):\n",
    "  \n",
    "    #add_footer\n",
    "    #fp = open('Prayog_logo.png', 'rb')\n",
    "    #msgImage = MIMEImage(fp.read())\n",
    "    #fp.close()\n",
    "    #msgImage.add_header('Content-ID', '<image1>')\n",
    "    #message.attach(msgImage)\n",
    "    # for every record get the name and the email addresses\n",
    "    name = names[i]\n",
    "    email = emails[i]\n",
    "#     file = files[i]\n",
    "#     attachment = open(file,'rb')\n",
    "    brochure = open(\"MDP_Flyer_2023.pdf\", 'rb')\n",
    "    message = MIMEMultipart()\n",
    "    message['From'] = your_email\n",
    "    message['To'] = email\n",
    "    message['BCC'] = your_email\n",
    "    message['Subject'] = message_subject\n",
    "     # the message to be emailed\n",
    "    body =  \"Dear \" + name + \",<br>Greetings from PRAYOG Team at CTARA, IIT Bombay!<br><br>The Centre for Technology Alternatives for Rural Areas (CTARA), was established in 1985 at the Indian Institute of Technology Bombay (IIT-B) and has been a pioneer in designing and conducting an academic program at the interface of technology and development. CTARA has been conducting the M.Tech. and PhD Program in 'Technology and Development' since the year 2007. The program has been successful in earning credibility and winning the confidence of the development community as well as the student community. <br><br>The development sector along with CSR sector is witnessing a surge of new ideas, models, schemes, and practices that require professional inputs from fields like technology, management, physical sciences, data sciences, and social sciences. Thus, there is a need for development professionals with the motivation required to work in demanding field conditions and professional knowledge and skills.<br><br>In response to this need, CTARA is now happy to announce a ‘<b>new academic program</b>’ titled <b>'Master in Development Practice'</b>. The MDP program is targeted at young professionals who have demonstrated commitment and have exposure to developmental field work. The program's objective is to professionally equip young development practitioners, having some field-experience, by building their academic and analytical abilities as well as the professional skills required for becoming an effective and efficient practice-professional in the development sector. <br><br>The duration of this program is one year and it will be conducted primarily in the online interactive mode with some in-person modules. Further details regarding this program are available in the attached flyer. Interested candidates from your organization can apply for admission into this program upto 18th May 2023. The schedule for the admission process is available on this <a href='https://www.iitb.ac.in/newacadhome/Schedule_MDP_Admission2023.pdf'>link.</a><br> For details, please visit - https://www.iitb.ac.in/newacadhome/mdp.jsp. For queries, please write to ctaramdp2023@gmail.com <br><br> Regards, <br><br><b>Prof. Bakul Rao</b><br>Professor Centre for Technology Alternatives for Rural Areas<br>Indian Institute of Technology Bombay<br>Mumbai 400076<br>Office Phone 022 25767830<br><a href='https://www.ctara.iitb.ac.in/'>https://www.ctara.iitb.ac.in/</a>\"\n",
    "    # sending the email\n",
    "    message.attach(MIMEText(body, 'html'))\n",
    "#     obj = MIMEBase('application','octet-stream', Name=file)\n",
    "#     obj.set_payload((attachment).read())\n",
    "#     encoders.encode_base64(obj)\n",
    "#     obj.add_header('Content-Disposition',\"attachment\", filename=file)\n",
    "#     message.attach(obj)\n",
    "    #attaching brochure\n",
    "    \n",
    "    obj2 = MIMEBase('application','octet-stream', Name=\"MDP_Flyer_2023.pdf\")\n",
    "    obj2.set_payload((brochure).read())\n",
    "    encoders.encode_base64(obj2)\n",
    "    obj2.add_header('Content-Disposition',\"brochure\", filename=\"MDP_Flyer_2023.pdf\")\n",
    "    message.attach(obj2)\n",
    "    #sent to one BCC\n",
    "    sent_to = [email]\n",
    "    text = message.as_string()\n",
    "    server.sendmail(your_email, sent_to, text)\n",
    "     #message.Save();\n",
    "          #message.SendAndSaveCopy();\n",
    "server.close()"
   ]
  },
  {
   "cell_type": "code",
   "execution_count": null,
   "id": "0635cade",
   "metadata": {},
   "outputs": [],
   "source": []
  },
  {
   "cell_type": "code",
   "execution_count": null,
   "id": "6ae6ac73",
   "metadata": {},
   "outputs": [],
   "source": []
  },
  {
   "cell_type": "code",
   "execution_count": null,
   "id": "dce04872",
   "metadata": {},
   "outputs": [],
   "source": []
  },
  {
   "cell_type": "code",
   "execution_count": null,
   "id": "4531fd40",
   "metadata": {},
   "outputs": [],
   "source": []
  },
  {
   "cell_type": "code",
   "execution_count": null,
   "id": "324daa0f",
   "metadata": {},
   "outputs": [],
   "source": []
  },
  {
   "cell_type": "code",
   "execution_count": null,
   "id": "4cf2987a",
   "metadata": {},
   "outputs": [],
   "source": []
  }
 ],
 "metadata": {
  "kernelspec": {
   "display_name": "Python 3 (ipykernel)",
   "language": "python",
   "name": "python3"
  },
  "language_info": {
   "codemirror_mode": {
    "name": "ipython",
    "version": 3
   },
   "file_extension": ".py",
   "mimetype": "text/x-python",
   "name": "python",
   "nbconvert_exporter": "python",
   "pygments_lexer": "ipython3",
   "version": "3.11.2"
  }
 },
 "nbformat": 4,
 "nbformat_minor": 5
}
