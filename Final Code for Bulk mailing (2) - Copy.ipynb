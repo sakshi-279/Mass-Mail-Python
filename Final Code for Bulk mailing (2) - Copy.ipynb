{
 "cells": [
  {
   "cell_type": "code",
   "execution_count": 3,
   "id": "f1b81b48",
   "metadata": {},
   "outputs": [],
   "source": [
    "# import the required libraries\n",
    "import pandas as pd\n",
    "import os\n",
    "import xlrd\n",
    "import smtplib\n",
    "from email.mime.multipart import MIMEMultipart\n",
    "from email.mime.text import MIMEText\n",
    "from email.mime.base import MIMEBase\n",
    "from email.mime.image import MIMEImage\n",
    "from email import encoders\n",
    "import getpass"
   ]
  },
  {
   "cell_type": "code",
   "execution_count": 4,
   "id": "30c14eb5",
   "metadata": {},
   "outputs": [
    {
     "name": "stdout",
     "output_type": "stream",
     "text": [
      "enter your email-id prayog.ctara@iitb.ac.in\n",
      "enter your password: \n",
      "········\n"
     ]
    }
   ],
   "source": [
    " # change these as per use\n",
    "your_email = input(\"enter your email-id \")\n",
    "your_password = getpass.getpass(\"enter your password: \\n\")"
   ]
  },
  {
   "cell_type": "code",
   "execution_count": 5,
   "id": "1eee900d",
   "metadata": {},
   "outputs": [
    {
     "data": {
      "text/plain": [
       "(235, b'2.7.0 Authentication successful')"
      ]
     },
     "execution_count": 5,
     "metadata": {},
     "output_type": "execute_result"
    }
   ],
   "source": [
    "# establishing connection with IIT-B mail\n",
    "server = smtplib.SMTP('smtp-auth.iitb.ac.in',587)\n",
    "server.ehlo()\n",
    "server.starttls()\n",
    "server.login(your_email, your_password)"
   ]
  },
  {
   "cell_type": "code",
   "execution_count": 6,
   "id": "9f339719",
   "metadata": {},
   "outputs": [
    {
     "name": "stdout",
     "output_type": "stream",
     "text": [
      "C:\\Users\\DELL\\Desktop\\Bulk Mailing\\Account Staff\n"
     ]
    }
   ],
   "source": [
    "# Define directory\n",
    "# os.chdir = input(\"Input directory address \")\n",
    "current_directory=os.getcwd()\n",
    "print(current_directory)"
   ]
  },
  {
   "cell_type": "code",
   "execution_count": 7,
   "id": "4ed608ab",
   "metadata": {},
   "outputs": [
    {
     "name": "stdout",
     "output_type": "stream",
     "text": [
      "        name        designation       address                         emails  \\\n",
      "0  Shivanand  Research Engineer  PRAYOG CTARA         shivnalgire4@gmail.com   \n",
      "1     Sakshi       Prayog Staff  PRAYOG CTARA  sakshisrivastava279@gmail.com   \n",
      "2   Sangeeta  Project Assistant  PRAYOG CTARA       sangeetasg6675@gmail.com   \n",
      "3    Yogesh   Research Engineer  PRAYOG CTARA     yogeshadkine1010@gmail.com   \n",
      "4    Pramila       Prayog Staff  PRAYOG CTARA        pramilatawade@gmail.com   \n",
      "5  Bakul Rao          Professor  PRAYOG CTARA             bakulrao@gmail.com   \n",
      "\n",
      "      attachment  \n",
      "0  Shivanand.pdf  \n",
      "1     Sakshi.pdf  \n",
      "2   Sangeeta.pdf  \n",
      "3    Yogesh .pdf  \n",
      "4    Pramila.pdf  \n",
      "5  Bakul Rao.pdf  \n"
     ]
    }
   ],
   "source": [
    "# reading the spreadsheet\n",
    "#address = input(\"provide name of address file along with extension \\n\")\n",
    "#file_address = os.chdir + \"/\" + address\n",
    "#print(file_address)\n",
    "email_list = pd.read_excel(\"list for python.xlsx\")\n",
    "                           \n",
    "print(email_list)"
   ]
  },
  {
   "cell_type": "code",
   "execution_count": 8,
   "id": "9dd99d6d",
   "metadata": {},
   "outputs": [
    {
     "name": "stdout",
     "output_type": "stream",
     "text": [
      "Enter subject: Bulk mail trai\n",
      "Trail mail\n",
      "C:\\Users\\DELL\\Desktop\\Bulk Mailing\\Account Staff\n"
     ]
    }
   ],
   "source": [
    "# getting the names and the emails\n",
    "names = email_list['name']\n",
    "emails = email_list['emails']\n",
    "files = email_list['attachment']\n",
    "message_subject = input(\"Enter subject: Bulk mail trai\\n\")\n",
    "print(os.getcwd())"
   ]
  },
  {
   "cell_type": "code",
   "execution_count": 10,
   "id": "cd237c0b",
   "metadata": {},
   "outputs": [
    {
     "ename": "SMTPServerDisconnected",
     "evalue": "please run connect() first",
     "output_type": "error",
     "traceback": [
      "\u001b[1;31m---------------------------------------------------------------------------\u001b[0m",
      "\u001b[1;31mSMTPServerDisconnected\u001b[0m                    Traceback (most recent call last)",
      "Cell \u001b[1;32mIn[10], line 39\u001b[0m\n\u001b[0;32m     37\u001b[0m     sent_to \u001b[38;5;241m=\u001b[39m [email] \u001b[38;5;241m+\u001b[39m [your_email]\n\u001b[0;32m     38\u001b[0m     text \u001b[38;5;241m=\u001b[39m message\u001b[38;5;241m.\u001b[39mas_string()\n\u001b[1;32m---> 39\u001b[0m     \u001b[43mserver\u001b[49m\u001b[38;5;241;43m.\u001b[39;49m\u001b[43msendmail\u001b[49m\u001b[43m(\u001b[49m\u001b[43myour_email\u001b[49m\u001b[43m,\u001b[49m\u001b[43m \u001b[49m\u001b[43msent_to\u001b[49m\u001b[43m,\u001b[49m\u001b[43m \u001b[49m\u001b[43mtext\u001b[49m\u001b[43m)\u001b[49m\n\u001b[0;32m     40\u001b[0m      \u001b[38;5;66;03m#message.Save();\u001b[39;00m\n\u001b[0;32m     41\u001b[0m           \u001b[38;5;66;03m#message.SendAndSaveCopy();\u001b[39;00m\n\u001b[0;32m     42\u001b[0m server\u001b[38;5;241m.\u001b[39mclose()\n",
      "File \u001b[1;32m~\\AppData\\Local\\Programs\\Python\\Python311\\Lib\\smtplib.py:881\u001b[0m, in \u001b[0;36mSMTP.sendmail\u001b[1;34m(self, from_addr, to_addrs, msg, mail_options, rcpt_options)\u001b[0m\n\u001b[0;32m    879\u001b[0m     \u001b[38;5;28;01mfor\u001b[39;00m option \u001b[38;5;129;01min\u001b[39;00m mail_options:\n\u001b[0;32m    880\u001b[0m         esmtp_opts\u001b[38;5;241m.\u001b[39mappend(option)\n\u001b[1;32m--> 881\u001b[0m (code, resp) \u001b[38;5;241m=\u001b[39m \u001b[38;5;28;43mself\u001b[39;49m\u001b[38;5;241;43m.\u001b[39;49m\u001b[43mmail\u001b[49m\u001b[43m(\u001b[49m\u001b[43mfrom_addr\u001b[49m\u001b[43m,\u001b[49m\u001b[43m \u001b[49m\u001b[43mesmtp_opts\u001b[49m\u001b[43m)\u001b[49m\n\u001b[0;32m    882\u001b[0m \u001b[38;5;28;01mif\u001b[39;00m code \u001b[38;5;241m!=\u001b[39m \u001b[38;5;241m250\u001b[39m:\n\u001b[0;32m    883\u001b[0m     \u001b[38;5;28;01mif\u001b[39;00m code \u001b[38;5;241m==\u001b[39m \u001b[38;5;241m421\u001b[39m:\n",
      "File \u001b[1;32m~\\AppData\\Local\\Programs\\Python\\Python311\\Lib\\smtplib.py:545\u001b[0m, in \u001b[0;36mSMTP.mail\u001b[1;34m(self, sender, options)\u001b[0m\n\u001b[0;32m    542\u001b[0m             \u001b[38;5;28;01mraise\u001b[39;00m SMTPNotSupportedError(\n\u001b[0;32m    543\u001b[0m                 \u001b[38;5;124m'\u001b[39m\u001b[38;5;124mSMTPUTF8 not supported by server\u001b[39m\u001b[38;5;124m'\u001b[39m)\n\u001b[0;32m    544\u001b[0m     optionlist \u001b[38;5;241m=\u001b[39m \u001b[38;5;124m'\u001b[39m\u001b[38;5;124m \u001b[39m\u001b[38;5;124m'\u001b[39m \u001b[38;5;241m+\u001b[39m \u001b[38;5;124m'\u001b[39m\u001b[38;5;124m \u001b[39m\u001b[38;5;124m'\u001b[39m\u001b[38;5;241m.\u001b[39mjoin(options)\n\u001b[1;32m--> 545\u001b[0m \u001b[38;5;28;43mself\u001b[39;49m\u001b[38;5;241;43m.\u001b[39;49m\u001b[43mputcmd\u001b[49m\u001b[43m(\u001b[49m\u001b[38;5;124;43m\"\u001b[39;49m\u001b[38;5;124;43mmail\u001b[39;49m\u001b[38;5;124;43m\"\u001b[39;49m\u001b[43m,\u001b[49m\u001b[43m \u001b[49m\u001b[38;5;124;43m\"\u001b[39;49m\u001b[38;5;124;43mFROM:\u001b[39;49m\u001b[38;5;132;43;01m%s\u001b[39;49;00m\u001b[38;5;132;43;01m%s\u001b[39;49;00m\u001b[38;5;124;43m\"\u001b[39;49m\u001b[43m \u001b[49m\u001b[38;5;241;43m%\u001b[39;49m\u001b[43m \u001b[49m\u001b[43m(\u001b[49m\u001b[43mquoteaddr\u001b[49m\u001b[43m(\u001b[49m\u001b[43msender\u001b[49m\u001b[43m)\u001b[49m\u001b[43m,\u001b[49m\u001b[43m \u001b[49m\u001b[43moptionlist\u001b[49m\u001b[43m)\u001b[49m\u001b[43m)\u001b[49m\n\u001b[0;32m    546\u001b[0m \u001b[38;5;28;01mreturn\u001b[39;00m \u001b[38;5;28mself\u001b[39m\u001b[38;5;241m.\u001b[39mgetreply()\n",
      "File \u001b[1;32m~\\AppData\\Local\\Programs\\Python\\Python311\\Lib\\smtplib.py:378\u001b[0m, in \u001b[0;36mSMTP.putcmd\u001b[1;34m(self, cmd, args)\u001b[0m\n\u001b[0;32m    374\u001b[0m     s \u001b[38;5;241m=\u001b[39m s\u001b[38;5;241m.\u001b[39mreplace(\u001b[38;5;124m'\u001b[39m\u001b[38;5;130;01m\\n\u001b[39;00m\u001b[38;5;124m'\u001b[39m, \u001b[38;5;124m'\u001b[39m\u001b[38;5;130;01m\\\\\u001b[39;00m\u001b[38;5;124mn\u001b[39m\u001b[38;5;124m'\u001b[39m)\u001b[38;5;241m.\u001b[39mreplace(\u001b[38;5;124m'\u001b[39m\u001b[38;5;130;01m\\r\u001b[39;00m\u001b[38;5;124m'\u001b[39m, \u001b[38;5;124m'\u001b[39m\u001b[38;5;130;01m\\\\\u001b[39;00m\u001b[38;5;124mr\u001b[39m\u001b[38;5;124m'\u001b[39m)\n\u001b[0;32m    375\u001b[0m     \u001b[38;5;28;01mraise\u001b[39;00m \u001b[38;5;167;01mValueError\u001b[39;00m(\n\u001b[0;32m    376\u001b[0m         \u001b[38;5;124mf\u001b[39m\u001b[38;5;124m'\u001b[39m\u001b[38;5;124mcommand and arguments contain prohibited newline characters: \u001b[39m\u001b[38;5;132;01m{\u001b[39;00ms\u001b[38;5;132;01m}\u001b[39;00m\u001b[38;5;124m'\u001b[39m\n\u001b[0;32m    377\u001b[0m     )\n\u001b[1;32m--> 378\u001b[0m \u001b[38;5;28;43mself\u001b[39;49m\u001b[38;5;241;43m.\u001b[39;49m\u001b[43msend\u001b[49m\u001b[43m(\u001b[49m\u001b[38;5;124;43mf\u001b[39;49m\u001b[38;5;124;43m'\u001b[39;49m\u001b[38;5;132;43;01m{\u001b[39;49;00m\u001b[43ms\u001b[49m\u001b[38;5;132;43;01m}\u001b[39;49;00m\u001b[38;5;132;43;01m{\u001b[39;49;00m\u001b[43mCRLF\u001b[49m\u001b[38;5;132;43;01m}\u001b[39;49;00m\u001b[38;5;124;43m'\u001b[39;49m\u001b[43m)\u001b[49m\n",
      "File \u001b[1;32m~\\AppData\\Local\\Programs\\Python\\Python311\\Lib\\smtplib.py:365\u001b[0m, in \u001b[0;36mSMTP.send\u001b[1;34m(self, s)\u001b[0m\n\u001b[0;32m    363\u001b[0m         \u001b[38;5;28;01mraise\u001b[39;00m SMTPServerDisconnected(\u001b[38;5;124m'\u001b[39m\u001b[38;5;124mServer not connected\u001b[39m\u001b[38;5;124m'\u001b[39m)\n\u001b[0;32m    364\u001b[0m \u001b[38;5;28;01melse\u001b[39;00m:\n\u001b[1;32m--> 365\u001b[0m     \u001b[38;5;28;01mraise\u001b[39;00m SMTPServerDisconnected(\u001b[38;5;124m'\u001b[39m\u001b[38;5;124mplease run connect() first\u001b[39m\u001b[38;5;124m'\u001b[39m)\n",
      "\u001b[1;31mSMTPServerDisconnected\u001b[0m: please run connect() first"
     ]
    }
   ],
   "source": [
    "for i in range(len(emails)):\n",
    "  \n",
    "    #add_footer\n",
    "    #fp = open('Prayog_logo.png', 'rb')\n",
    "    #msgImage = MIMEImage(fp.read())\n",
    "    #fp.close()\n",
    "    #msgImage.add_header('Content-ID', '<image1>')\n",
    "    #message.attach(msgImage)\n",
    "    # for every record get the name and the email addresses\n",
    "    name = names[i]\n",
    "    email = emails[i]\n",
    "    file = files[i]\n",
    "    attachment = open(file,'rb')\n",
    "    brochure = open(\"BROCHURE_PRAYOG.pdf\", 'rb')\n",
    "    message = MIMEMultipart()\n",
    "    message['From'] = your_email\n",
    "    message['To'] = email\n",
    "    message['BCC'] = your_email\n",
    "    message['Subject'] = message_subject\n",
    "     # the message to be emailed\n",
    "    body =  \"Dear \" + name + \",\\n\\nIt gives me immense pleasure to inform you the launch of a new platform PRAYOG by CTARA, IIT Bombay. This is a secretariat to connect with the stakeholders and solve societal problems in a structured way.  PRAYOG can collaborate and reach various stakeholders such as Govt. officials, NGOs, and academia.\\n\\nThe details about PRAYOG can be seen in the attached letter & brochure. \\n\\nThanks & Regards, \\nMrs. Sushama Kulkarni \\nAssistant Project Manager \\n+91-9819284998 \\nwww.prayog.ctara.iitb.ac.in \"\n",
    "    # sending the email\n",
    "    message.attach(MIMEText(body, 'plain'))\n",
    "    obj = MIMEBase('application','octet-stream', Name=file)\n",
    "    obj.set_payload((attachment).read())\n",
    "    encoders.encode_base64(obj)\n",
    "    obj.add_header('Content-Disposition',\"attachment\", filename=file)\n",
    "    message.attach(obj)\n",
    "    #attaching brochure\n",
    "    \n",
    "    obj2 = MIMEBase('application','octet-stream', Name=\"BROCHURE_PRAYOG.pdf\")\n",
    "    obj2.set_payload((brochure).read())\n",
    "    encoders.encode_base64(obj2)\n",
    "    obj2.add_header('Content-Disposition',\"brochure\", filename=\"BROCHURE_PRAYOG.pdf\")\n",
    "    message.attach(obj2)\n",
    "    #sent to one BCC\n",
    "    sent_to = [email] + [your_email]\n",
    "    text = message.as_string()\n",
    "    server.sendmail(your_email, sent_to, text)\n",
    "     #message.Save();\n",
    "          #message.SendAndSaveCopy();\n",
    "server.close()"
   ]
  },
  {
   "cell_type": "code",
   "execution_count": null,
   "id": "4531fd40",
   "metadata": {},
   "outputs": [],
   "source": []
  },
  {
   "cell_type": "code",
   "execution_count": null,
   "id": "324daa0f",
   "metadata": {},
   "outputs": [],
   "source": []
  },
  {
   "cell_type": "code",
   "execution_count": null,
   "id": "4cf2987a",
   "metadata": {},
   "outputs": [],
   "source": []
  }
 ],
 "metadata": {
  "kernelspec": {
   "display_name": "Python 3 (ipykernel)",
   "language": "python",
   "name": "python3"
  },
  "language_info": {
   "codemirror_mode": {
    "name": "ipython",
    "version": 3
   },
   "file_extension": ".py",
   "mimetype": "text/x-python",
   "name": "python",
   "nbconvert_exporter": "python",
   "pygments_lexer": "ipython3",
   "version": "3.11.2"
  }
 },
 "nbformat": 4,
 "nbformat_minor": 5
}
